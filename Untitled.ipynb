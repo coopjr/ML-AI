{
 "cells": [
  {
   "cell_type": "code",
   "execution_count": 13,
   "id": "1634f0a7-9923-4e5a-8804-0a23f42d2660",
   "metadata": {},
   "outputs": [],
   "source": [
    "def fact(num):\n",
    "    if num == 1: \n",
    "        return 1\n",
    "    else:\n",
    "        return(num*fact(num-1))"
   ]
  },
  {
   "cell_type": "code",
   "execution_count": 14,
   "id": "6a91a1a4-242d-4be6-8aa3-7b2f86e996ad",
   "metadata": {},
   "outputs": [
    {
     "data": {
      "text/plain": [
       "6"
      ]
     },
     "execution_count": 14,
     "metadata": {},
     "output_type": "execute_result"
    }
   ],
   "source": [
    "fact(3)"
   ]
  },
  {
   "cell_type": "code",
   "execution_count": 3,
   "id": "075e5476-c64c-4ee2-af72-7a2c554f4063",
   "metadata": {},
   "outputs": [
    {
     "name": "stdout",
     "output_type": "stream",
     "text": [
      "Hello   world\n",
      "Hello hi world\n"
     ]
    }
   ],
   "source": [
    "a = \"Hello\"\n",
    "b = \"world\"\n",
    "print(a,\" \",b)\n",
    "print(a+\" hi \"+b)"
   ]
  },
  {
   "cell_type": "code",
   "execution_count": 9,
   "id": "57c651fc-383a-43a5-97c0-8e1d8a2fc3d5",
   "metadata": {},
   "outputs": [],
   "source": [
    "a = {1:\"first name\", 2:\"last name\", \"age\":33}"
   ]
  },
  {
   "cell_type": "code",
   "execution_count": 10,
   "id": "3bc161d6-2c87-4a72-bbbd-89ca39323704",
   "metadata": {},
   "outputs": [
    {
     "name": "stdout",
     "output_type": "stream",
     "text": [
      "first name\n"
     ]
    }
   ],
   "source": [
    "print(a[1])"
   ]
  },
  {
   "cell_type": "code",
   "execution_count": 13,
   "id": "2eb0e13b-9640-4ddd-8091-cb640388b7b7",
   "metadata": {},
   "outputs": [
    {
     "name": "stdout",
     "output_type": "stream",
     "text": [
      "33\n"
     ]
    }
   ],
   "source": [
    "print(a[\"age\"])"
   ]
  },
  {
   "cell_type": "code",
   "execution_count": 15,
   "id": "6e5f907d-7ee6-4188-922a-caf713f2eb6e",
   "metadata": {},
   "outputs": [
    {
     "name": "stdout",
     "output_type": "stream",
     "text": [
      "44\n"
     ]
    }
   ],
   "source": [
    "a[\"age\"] = 44\n",
    "print(a[\"age\"])"
   ]
  },
  {
   "cell_type": "code",
   "execution_count": 11,
   "id": "0fb4ae6c-1f5a-4358-a584-6571eef9bd91",
   "metadata": {},
   "outputs": [
    {
     "name": "stdin",
     "output_type": "stream",
     "text": [
      "please enter a number 3\n"
     ]
    },
    {
     "name": "stdout",
     "output_type": "stream",
     "text": [
      "The current total is : 0\n",
      "THe total after adding 1 is : 1\n",
      "The current total is : 1\n",
      "THe total after adding 2 is : 3\n",
      "The current total is : 3\n",
      "THe total after adding 3 is : 6\n"
     ]
    }
   ],
   "source": [
    "n = int(input(\"please enter a number\"))\n",
    "total = 0\n",
    "i = 1\n",
    "while i<=n:\n",
    "    print(\"The current total is : {}\".format(total))\n",
    "    total = total + i\n",
    "    print(\"THe total after adding {} is : {}\".format(i,total))\n",
    "    i = i + 1\n",
    "    if total > 60:\n",
    "        break\n",
    "        "
   ]
  },
  {
   "cell_type": "code",
   "execution_count": 10,
   "id": "c93e7841-32d7-453f-8f64-58a471e17973",
   "metadata": {},
   "outputs": [
    {
     "name": "stdout",
     "output_type": "stream",
     "text": [
      "HEllo bob,gm\n",
      "HEllo bob,Hi deep, How are you doing?\n",
      "HEllo james,good afternoon\n",
      "HEllo james,good afternoon\n"
     ]
    }
   ],
   "source": [
    "def greet(name , msg = \"Hi deep, How are you doing?\"):\n",
    "    print(\"HEllo \"+name+\",\"+msg)\n",
    "greet(\"bob\",\"gm\")\n",
    "greet(\"bob\")\n",
    "greet(name = \"james\",msg = \"good afternoon\")\n",
    "greet(msg =\"good afternoon\",name = \"james\")"
   ]
  },
  {
   "cell_type": "code",
   "execution_count": 15,
   "id": "c7bdb894-224c-4fbf-89bb-ee370bcd7a14",
   "metadata": {},
   "outputs": [
    {
     "data": {
      "text/plain": [
       "4"
      ]
     },
     "execution_count": 15,
     "metadata": {},
     "output_type": "execute_result"
    }
   ],
   "source": [
    "# lambda , map , filter , reduce\n",
    "ans = lambda x:x*2\n",
    "ans(2)"
   ]
  },
  {
   "cell_type": "code",
   "execution_count": 16,
   "id": "a256cafe-17a8-4c03-81a1-258391640e02",
   "metadata": {},
   "outputs": [
    {
     "data": {
      "text/plain": [
       "[2, 4, 6, 8]"
      ]
     },
     "execution_count": 16,
     "metadata": {},
     "output_type": "execute_result"
    }
   ],
   "source": [
    "list_1 = [1,2,3,4]\n",
    "list_2 = list(map(lambda x:x*2,list_1))\n",
    "list_2"
   ]
  },
  {
   "cell_type": "code",
   "execution_count": 24,
   "id": "167e6d78-27e3-486a-b9b3-ce8033983c51",
   "metadata": {},
   "outputs": [
    {
     "data": {
      "text/plain": [
       "[2, 4]"
      ]
     },
     "execution_count": 24,
     "metadata": {},
     "output_type": "execute_result"
    }
   ],
   "source": [
    "list_1 = [1,2,3,4]\n",
    "list_2 = list(filter(lambda x: (x%2 == 0),list_1))\n",
    "list_2"
   ]
  },
  {
   "cell_type": "code",
   "execution_count": 27,
   "id": "45caeff5-52e4-492d-bcf4-4ef244b58e95",
   "metadata": {},
   "outputs": [
    {
     "data": {
      "text/plain": [
       "24"
      ]
     },
     "execution_count": 27,
     "metadata": {},
     "output_type": "execute_result"
    }
   ],
   "source": [
    "from functools import reduce\n",
    "red = reduce(lambda a,b: a*b,list_1)\n",
    "red"
   ]
  },
  {
   "cell_type": "code",
   "execution_count": 22,
   "id": "c5a2dfe0-5672-4759-8a3e-fc97322cd6e3",
   "metadata": {},
   "outputs": [
    {
     "data": {
      "text/plain": [
       "120"
      ]
     },
     "execution_count": 22,
     "metadata": {},
     "output_type": "execute_result"
    }
   ],
   "source": [
    "import functools\n",
    "list = [1,2,3,4,5]\n",
    "functools.reduce(lambda a,b:a*b,list)"
   ]
  },
  {
   "cell_type": "code",
   "execution_count": 8,
   "id": "303644a1-ed81-4245-8c28-5312f4284b22",
   "metadata": {},
   "outputs": [
    {
     "name": "stdin",
     "output_type": "stream",
     "text": [
      "Enter the string hi hi\n"
     ]
    },
    {
     "name": "stdout",
     "output_type": "stream",
     "text": [
      "count of all characters in the given string is:\n",
      " {'h': 2, 'i': 2, ' ': 1}\n"
     ]
    }
   ],
   "source": [
    "string = input(\"Enter the string\")\n",
    "freq = {}\n",
    "\n",
    "for i in string:\n",
    "    if i in freq:\n",
    "        freq[i] += 1\n",
    "    else:\n",
    "        freq[i] = 1\n",
    "print(f\"count of all characters in the given string is:\\n {freq}\")"
   ]
  },
  {
   "cell_type": "code",
   "execution_count": 7,
   "id": "81a7ad3a-5b0b-41ce-8445-728735e3e775",
   "metadata": {},
   "outputs": [
    {
     "name": "stdin",
     "output_type": "stream",
     "text": [
      "Enter the number : 7\n"
     ]
    },
    {
     "name": "stdout",
     "output_type": "stream",
     "text": [
      "7 is prime\n"
     ]
    }
   ],
   "source": [
    "num = int(input(\"Enter the number :\"))\n",
    "count = 0\n",
    "if num > 1:\n",
    "    for i in range(2,int(num/2)+1):\n",
    "        if (num%i == 0):\n",
    "            count += 1\n",
    "    if (count>0):\n",
    "        print(f\"{num} is not prime\")\n",
    "    else:\n",
    "        print(f\"{num} is prime\")\n",
    "else:\n",
    "    print(\"Not a prime number\")"
   ]
  },
  {
   "cell_type": "code",
   "execution_count": 11,
   "id": "1ba9a19a-2e7a-426d-9c33-14d80dcd5bca",
   "metadata": {},
   "outputs": [
    {
     "name": "stdin",
     "output_type": "stream",
     "text": [
      "Enter the string ttatt\n"
     ]
    },
    {
     "name": "stdout",
     "output_type": "stream",
     "text": [
      "ttatt is a palindrome\n"
     ]
    }
   ],
   "source": [
    "def isPalindrome(str):\n",
    "    str = str.lower()\n",
    "    st_len = len(str)\n",
    "    for i in range(0, int(st_len/2)):\n",
    "        if str[i] != str[st_len-i-1]:\n",
    "            return False\n",
    "    return True\n",
    "s = input(\"Enter the string\")\n",
    "ans = isPalindrome(s)\n",
    "if(ans):\n",
    "    print(f\"{s} is a palindrome\")\n",
    "else:\n",
    "    print(f\"{s} is not a palindrome\")\n",
    "    \n",
    "        "
   ]
  },
  {
   "cell_type": "code",
   "execution_count": 12,
   "id": "2bfd6a77-2469-4cda-b7d9-ea036e11e87e",
   "metadata": {},
   "outputs": [
    {
     "name": "stdout",
     "output_type": "stream",
     "text": [
      "Current letter: p\n",
      "Current letter: y\n",
      "Current letter: t\n"
     ]
    }
   ],
   "source": [
    "for letter in 'python':\n",
    "    if letter == 'h':\n",
    "        break\n",
    "    print('Current letter:',letter)\n",
    "    "
   ]
  },
  {
   "cell_type": "code",
   "execution_count": 13,
   "id": "5a9acb08-4e6b-47a7-b5fc-cf327612b4a8",
   "metadata": {},
   "outputs": [
    {
     "name": "stdout",
     "output_type": "stream",
     "text": [
      "Current letter: p\n",
      "Current letter: y\n",
      "Current letter: t\n",
      "Current letter: o\n",
      "Current letter: n\n"
     ]
    }
   ],
   "source": [
    "for letter in 'python':\n",
    "    if letter == 'h':\n",
    "        continue\n",
    "    print('Current letter:',letter)\n",
    "    "
   ]
  },
  {
   "cell_type": "code",
   "execution_count": 16,
   "id": "16b0678f-61bd-4e96-ae07-b5131a279104",
   "metadata": {},
   "outputs": [
    {
     "name": "stdin",
     "output_type": "stream",
     "text": [
      "enter number 12\n"
     ]
    },
    {
     "name": "stdout",
     "output_type": "stream",
     "text": [
      "entered number has didgits that are not even\n"
     ]
    }
   ],
   "source": [
    "n = int(input('enter number'))\n",
    "flag = 0\n",
    "for i in str(n):\n",
    "    if int(i)%2 != 0:\n",
    "        flag = 1\n",
    "        break\n",
    "    else:\n",
    "        continue\n",
    "if(flag ==1):\n",
    "    print('entered number has didgits that are not even')\n",
    "\n",
    "else:\n",
    "    print('entered number has didgits that are even')\n"
   ]
  },
  {
   "cell_type": "code",
   "execution_count": 21,
   "id": "dc255b9e-393b-43f1-b4f5-d9ed58ceddd5",
   "metadata": {},
   "outputs": [
    {
     "data": {
      "text/plain": [
       "4"
      ]
     },
     "execution_count": 21,
     "metadata": {},
     "output_type": "execute_result"
    }
   ],
   "source": [
    "def generator():\n",
    "    for i in range(6):\n",
    "        yield i*i\n",
    "g = generator()\n",
    "next(g)\n",
    "next(g)\n",
    "next(g)"
   ]
  },
  {
   "cell_type": "code",
   "execution_count": 29,
   "id": "4d4a3e82-62ba-407d-8dee-c49762a480b0",
   "metadata": {},
   "outputs": [
    {
     "ename": "AssertionError",
     "evalue": "",
     "output_type": "error",
     "traceback": [
      "\u001b[1;31m---------------------------------------------------------------------------\u001b[0m",
      "\u001b[1;31mAssertionError\u001b[0m                            Traceback (most recent call last)",
      "Cell \u001b[1;32mIn[29], line 2\u001b[0m\n\u001b[0;32m      1\u001b[0m a \u001b[38;5;241m=\u001b[39m \u001b[38;5;241m4\u001b[39m\n\u001b[1;32m----> 2\u001b[0m \u001b[38;5;28;01massert\u001b[39;00m a\u001b[38;5;241m>\u001b[39m\u001b[38;5;241m5\u001b[39m\n",
      "\u001b[1;31mAssertionError\u001b[0m: "
     ]
    }
   ],
   "source": [
    "a = 4\n",
    "assert a>5\n"
   ]
  },
  {
   "cell_type": "code",
   "execution_count": 31,
   "id": "84ebcb97-8425-4d00-9fe2-613b2683d902",
   "metadata": {},
   "outputs": [
    {
     "data": {
      "text/plain": [
       "[0, -1, 1, -2, 2, -3, 3, -4, 4, -5, 5]"
      ]
     },
     "execution_count": 31,
     "metadata": {},
     "output_type": "execute_result"
    }
   ],
   "source": [
    "ans = sorted(range(-5,6),key=lambda x:x**2)\n",
    "ans"
   ]
  },
  {
   "cell_type": "code",
   "execution_count": 37,
   "id": "fec3f26c-3f3b-4884-a74c-72534b6ee07a",
   "metadata": {},
   "outputs": [
    {
     "data": {
      "text/plain": [
       "2"
      ]
     },
     "execution_count": 37,
     "metadata": {},
     "output_type": "execute_result"
    }
   ],
   "source": [
    "string1 = \"India is my India country. I love india\"\n",
    "SubString = \"India\"\n",
    "res = string1.count(SubString)\n",
    "res"
   ]
  },
  {
   "cell_type": "code",
   "execution_count": 38,
   "id": "5cdfadcb-e16c-40ee-9d67-1cf43c23db9e",
   "metadata": {},
   "outputs": [
    {
     "data": {
      "text/plain": [
       "3"
      ]
     },
     "execution_count": 38,
     "metadata": {},
     "output_type": "execute_result"
    }
   ],
   "source": [
    "string1 = \"India is my India country. I love india\"\n",
    "SubString = \"India\"\n",
    "str_conv = string1.lower()\n",
    "res = str_conv.count(SubString.lower())\n",
    "res"
   ]
  },
  {
   "cell_type": "code",
   "execution_count": 44,
   "id": "619c0f49-8dff-45f4-a65c-1b26ce1a65a0",
   "metadata": {},
   "outputs": [
    {
     "data": {
      "text/plain": [
       "160"
      ]
     },
     "execution_count": 44,
     "metadata": {},
     "output_type": "execute_result"
    }
   ],
   "source": [
    "string1 = \"My name is alexa\"\n",
    "count = 0\n",
    "vowels = set(\"aeiouAEIOU\")\n",
    "for i in string1:\n",
    "    for i in vowels:\n",
    "        count +=1\n",
    "count"
   ]
  },
  {
   "cell_type": "code",
   "execution_count": 2,
   "id": "63d5c9e8-870b-4b58-9efe-9da9fd325107",
   "metadata": {},
   "outputs": [
    {
     "data": {
      "text/plain": [
       "{'H': 2, 'e': 2, 'l': 3, 'o': 2, ' ': 2, 'y': 1, 'W': 1, 'r': 1, 'd': 1}"
      ]
     },
     "execution_count": 2,
     "metadata": {},
     "output_type": "execute_result"
    }
   ],
   "source": [
    "string = \"Hello Hey World\"\n",
    "my_dict = {}\n",
    "for i in string:\n",
    "    if i in my_dict:\n",
    "        my_dict[i] +=1\n",
    "    else:\n",
    "        my_dict[i] = 1\n",
    "my_dict\n",
    "        "
   ]
  },
  {
   "cell_type": "code",
   "execution_count": 4,
   "id": "6d77d49d-7bb0-404b-a8a3-1cd5211082e2",
   "metadata": {},
   "outputs": [
    {
     "name": "stdout",
     "output_type": "stream",
     "text": [
      "yes\n"
     ]
    }
   ],
   "source": [
    "s1 = \"listen\"\n",
    "s2 = \"silent\"\n",
    "\n",
    "s1_lst = list(s1)\n",
    "s2_lst = list(s2)\n",
    "\n",
    "X = s1_lst.sort()\n",
    "Y = s2_lst.sort()\n",
    "\n",
    "if X == Y:\n",
    "    print (\"yes\")\n",
    "else:\n",
    "    print (\"No\")"
   ]
  },
  {
   "cell_type": "code",
   "execution_count": 7,
   "id": "70467f97-49d7-474e-8a37-4b7d38a87288",
   "metadata": {},
   "outputs": [
    {
     "name": "stdout",
     "output_type": "stream",
     "text": [
      "1\n"
     ]
    }
   ],
   "source": [
    "st = \"malayalam\"\n",
    "st2 = st[::-1]\n",
    "if st == st2:\n",
    "    print (1)\n",
    "else:\n",
    "    print (0)"
   ]
  },
  {
   "cell_type": "code",
   "execution_count": 4,
   "id": "a074a6d9-4fae-463e-b583-fda3bb5300a9",
   "metadata": {},
   "outputs": [
    {
     "data": {
      "text/html": [
       "<div>\n",
       "<style scoped>\n",
       "    .dataframe tbody tr th:only-of-type {\n",
       "        vertical-align: middle;\n",
       "    }\n",
       "\n",
       "    .dataframe tbody tr th {\n",
       "        vertical-align: top;\n",
       "    }\n",
       "\n",
       "    .dataframe thead th {\n",
       "        text-align: right;\n",
       "    }\n",
       "</style>\n",
       "<table border=\"1\" class=\"dataframe\">\n",
       "  <thead>\n",
       "    <tr style=\"text-align: right;\">\n",
       "      <th></th>\n",
       "      <th>Author</th>\n",
       "      <th>Article</th>\n",
       "      <th>Age</th>\n",
       "    </tr>\n",
       "  </thead>\n",
       "  <tbody>\n",
       "    <tr>\n",
       "      <th>0</th>\n",
       "      <td>abc</td>\n",
       "      <td>120</td>\n",
       "      <td>21</td>\n",
       "    </tr>\n",
       "    <tr>\n",
       "      <th>1</th>\n",
       "      <td>xyz</td>\n",
       "      <td>324</td>\n",
       "      <td>33</td>\n",
       "    </tr>\n",
       "    <tr>\n",
       "      <th>2</th>\n",
       "      <td>qwe</td>\n",
       "      <td>221</td>\n",
       "      <td>42</td>\n",
       "    </tr>\n",
       "  </tbody>\n",
       "</table>\n",
       "</div>"
      ],
      "text/plain": [
       "  Author  Article  Age\n",
       "0    abc      120   21\n",
       "1    xyz      324   33\n",
       "2    qwe      221   42"
      ]
     },
     "execution_count": 4,
     "metadata": {},
     "output_type": "execute_result"
    }
   ],
   "source": [
    "import pandas as pd\n",
    "import matplotlib.pyplot as plt\n",
    "\n",
    "author = ['abc','xyz','qwe']\n",
    "article = [120,324,221]\n",
    "\n",
    "auth_series = pd.Series(author)\n",
    "article_series = pd.Series(article)\n",
    "\n",
    "frame = {'Author': auth_series, 'Article': article_series}#dict to map both series\n",
    "result = pd.DataFrame(frame)\n",
    "result\n",
    "\n",
    "age = [21,33,42]\n",
    "result['Age'] = pd.Series(age)\n",
    "result"
   ]
  },
  {
   "cell_type": "code",
   "execution_count": null,
   "id": "51b55ac7-4f10-407e-a0f7-5c8fa1a06ef2",
   "metadata": {},
   "outputs": [],
   "source": [
    "df_melted=pd.melt(df,id_vars)\n",
    "#melt will reduce the size of what data looks like\n",
    "df_stacked = df_measurements.stack().to_frame()\n",
    "df_stacked[:6]\n",
    "#if df has multiple level index stack decreases index\n",
    "df.add\n",
    "df.drop\n",
    "df.insert\n",
    "df.append\n",
    "#revise this again"
   ]
  },
  {
   "cell_type": "code",
   "execution_count": null,
   "id": "1cc47776-ed7e-4468-9948-afb91ff0da6d",
   "metadata": {},
   "outputs": [],
   "source": [
    "# pivot table used to look at the data in a different perspective\n",
    "# used to explore relationships among variables by allowing them present data in diff formats\n",
    "\n",
    "df.pivot_table(index='cat',columns='city',aggfunc='mean')"
   ]
  },
  {
   "cell_type": "code",
   "execution_count": null,
   "id": "1d46acf0-8855-43b1-862f-f93cdb83c344",
   "metadata": {},
   "outputs": [],
   "source": [
    "#loc is label based data selecting method pass row/col which needs to be selected\n",
    "#accepts boolean data unleke iloc\n",
    "data.loc[(data.Brand == 'Maruti') & (data.Mileage > 25)]\n",
    "\n",
    "# iloc is index based selecting\n",
    "data.iloc[[0,2,4,7]]\n",
    "data.iloc[1:5,2:5]"
   ]
  },
  {
   "cell_type": "code",
   "execution_count": 5,
   "id": "1223b447-d2ba-4184-83f5-07c395bf2167",
   "metadata": {},
   "outputs": [
    {
     "name": "stdout",
     "output_type": "stream",
     "text": [
      "olleH\n"
     ]
    }
   ],
   "source": [
    "# user defined func\n",
    "def strrev(a):\n",
    "    b=a[::-1]\n",
    "    print(b)\n",
    "strrev(\"Hello\")"
   ]
  },
  {
   "cell_type": "code",
   "execution_count": null,
   "id": "16b36d63-19e5-4f44-b8f8-7fa443c32ae7",
   "metadata": {},
   "outputs": [],
   "source": []
  },
  {
   "cell_type": "code",
   "execution_count": null,
   "id": "e1157c71-1fb9-47a0-b79f-6abc422296ec",
   "metadata": {},
   "outputs": [],
   "source": []
  },
  {
   "cell_type": "code",
   "execution_count": null,
   "id": "b90460a1-1d8c-4ab1-be44-748352f39506",
   "metadata": {},
   "outputs": [],
   "source": []
  },
  {
   "cell_type": "code",
   "execution_count": null,
   "id": "20597c51-c15b-4d00-a548-792b2fa778a7",
   "metadata": {},
   "outputs": [],
   "source": []
  }
 ],
 "metadata": {
  "kernelspec": {
   "display_name": "Python 3 (ipykernel)",
   "language": "python",
   "name": "python3"
  },
  "language_info": {
   "codemirror_mode": {
    "name": "ipython",
    "version": 3
   },
   "file_extension": ".py",
   "mimetype": "text/x-python",
   "name": "python",
   "nbconvert_exporter": "python",
   "pygments_lexer": "ipython3",
   "version": "3.12.3"
  }
 },
 "nbformat": 4,
 "nbformat_minor": 5
}
